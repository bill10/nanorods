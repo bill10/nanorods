{
 "cells": [
  {
   "cell_type": "markdown",
   "metadata": {},
   "source": [
    "# Nanorods Generator"
   ]
  },
  {
   "cell_type": "markdown",
   "metadata": {},
   "source": [
    "## Load packages"
   ]
  },
  {
   "cell_type": "code",
   "execution_count": 2,
   "metadata": {},
   "outputs": [],
   "source": [
    "import numpy as np\n",
    "import math\n",
    "import sys\n",
    "import pickle\n",
    "import time\n",
    "import glob"
   ]
  },
  {
   "cell_type": "code",
   "execution_count": 7,
   "metadata": {},
   "outputs": [],
   "source": [
    "import pylab as plt\n",
    "%matplotlib inline "
   ]
  },
  {
   "cell_type": "code",
   "execution_count": null,
   "metadata": {},
   "outputs": [],
   "source": [
    "class Stopwatch:\n",
    "    start_time=None\n",
    "    def go(self,msg=''):\n",
    "        if msg:\n",
    "            print(msg)\n",
    "        self.start_time=time.time()\n",
    "        sys.stdout.flush()\n",
    "    def stop(self,msg=''):\n",
    "        if msg:\n",
    "            print(\"{}: {} seconds\".format(msg,time.time()-self.start_time))\n",
    "        else:\n",
    "            print(\"Elapsed time: {} seconds\".format(time.time()-self.start_time))\n",
    "        sys.stdout.flush()\n",
    "    def check(self):\n",
    "        return time.time()-self.start_time\n",
    "\n",
    "tic=Stopwatch()"
   ]
  },
  {
   "cell_type": "markdown",
   "metadata": {},
   "source": [
    "## Distance between two segments"
   ]
  },
  {
   "cell_type": "markdown",
   "metadata": {},
   "source": [
    "See paper \"Robust Computation of Distance Between Line Segments\" for details"
   ]
  },
  {
   "cell_type": "code",
   "execution_count": 4,
   "metadata": {},
   "outputs": [],
   "source": [
    "# Compute the closest points on the line segments P(s) = (1-s)*P0 + s*P1 and Q(t) = (1-t)*Q0 + t*Q1 \n",
    "# for 0 <= s <= 1 and 0 <= t <= 1.  The algorithm isrobust even for nearly parallel segments.  Effectively, it uses a conjugate\n",
    "# gradient search for the minimum of the squared distance function, which\n",
    "# avoids the numerical problems introduced by divisions in the case the\n",
    "# minimum is located at an interior point of the domain.  See the document\n",
    "# http://www.geometrictools.com/Documentation/DistanceLine3Line3.pdf for details.\n",
    "\n",
    "def GetClampedRoot(slope, h0, h1):\n",
    "#     Theoretically, r is in (0,1).  However, when the slope is nearly zero,\n",
    "#     then so are h0 and h1.  Significant numerical rounding problems can\n",
    "#     occur when using floating-point arithmetic.  If the rounding causes r\n",
    "#     to be outside the interval, clamp it.  It is possible that r is in\n",
    "#     (0,1) and has rounding errors, but because h0 and h1 are both nearly\n",
    "#     zero, the quadratic is nearly constant on (0,1).  Any choice of p\n",
    "#     should not cause undesirable accuracy problems for the final distance\n",
    "#     computation.\n",
    "    \n",
    "#     NOTE:  You can use bisection to recompute the root or even use\n",
    "#     bisection to compute the root and skip the division.  This is generally\n",
    "#     slower, which might be a problem for high-performance applications.\n",
    "\n",
    "    if (h0 < 0):\n",
    "        if (h1 > 0):\n",
    "            r = -h0 / slope\n",
    "            if (r > 1):\n",
    "                r = 0.5\n",
    "#             The slope is positive and -h0 is positive, so there is no\n",
    "#             need to test for a negative value and clamp it.\n",
    "        else:\n",
    "            r = 1.0\n",
    "    else:\n",
    "        r = 0.0\n",
    "    return r"
   ]
  },
  {
   "cell_type": "code",
   "execution_count": 23,
   "metadata": {},
   "outputs": [],
   "source": [
    "def ComputeIntersection(sValue, classify, ABC):\n",
    "#     The divisions are theoretically numbers in [0,1].  Numerical rounding\n",
    "#     errors might cause the result to be outside the interval.  When this\n",
    "#     happens, it must be that both numerator and denominator are nearly\n",
    "#     zero.  The denominator is nearly zero when the segments are nearly\n",
    "#     perpendicular.  The numerator is nearly zero when the P-segment is\n",
    "#     nearly degenerate (mF00 = a is small).  The choice of 0.5 should not\n",
    "#     cause significant accuracy problems.\n",
    "    \n",
    "#     NOTE:  You can use bisection to recompute the root or even use\n",
    "#     bisection to compute the root and skip the division.  This is generally\n",
    "#     slower, which might be a problem for high-performance applications.\n",
    "    \n",
    "    edge=[0,0]\n",
    "    end=np.zeros([2,2])\n",
    "    if (classify[0] < 0):\n",
    "        edge[0] = 0\n",
    "        end[0][0] = 0\n",
    "        end[0][1] = ABC['mF00'] / ABC['mB']\n",
    "        if (end[0][1] < 0 or end[0][1] > 1):\n",
    "            end[0][1] = 0.5\n",
    "        if (classify[1] == 0):\n",
    "            edge[1] = 3\n",
    "            end[1][0] = sValue[1]\n",
    "            end[1][1] = 1\n",
    "        else:  # classify[1] > 0\n",
    "            edge[1] = 1;\n",
    "            end[1][0] = 1;\n",
    "            end[1][1] = ABC['mF10'] / ABC['mB'];\n",
    "            if (end[1][1] < 0 or end[1][1] > 1):\n",
    "                end[1][1] = 0.5\n",
    "    elif (classify[0] == 0):\n",
    "        edge[0] = 2\n",
    "        end[0][0] = sValue[0]\n",
    "        end[0][1] = 0\n",
    "        if (classify[1] < 0):\n",
    "            edge[1] = 0\n",
    "            end[1][0] = 0\n",
    "            end[1][1] = ABC['mF00'] / ABC['mB']\n",
    "            if (end[1][1] < 0 or end[1][1] > 1):\n",
    "                end[1][1] = 0.5\n",
    "        elif (classify[1] == 0):\n",
    "            edge[1] = 3;\n",
    "            end[1][0] = sValue[1]\n",
    "            end[1][1] = 1\n",
    "        else:\n",
    "            edge[1] = 1\n",
    "            end[1][0] = 1\n",
    "            end[1][1] = ABC['mF10'] / ABC['mB']\n",
    "            if (end[1][1] < 0 or end[1][1] > 1):\n",
    "                end[1][1] = 0.5\n",
    "    else:  # classify[0] > 0\n",
    "        edge[0] = 1\n",
    "        end[0][0] = 1\n",
    "        end[0][1] = ABC['mF10'] / ABC['mB']\n",
    "        if (end[0][1] < 0 or end[0][1] > 1):\n",
    "            end[0][1] = 0.5\n",
    "        if (classify[1] == 0):\n",
    "            edge[1] = 3;\n",
    "            end[1][0] = sValue[1];\n",
    "            end[1][1] = 1;\n",
    "        else:\n",
    "            edge[1] = 0;\n",
    "            end[1][0] = 0;\n",
    "            end[1][1] = ABC['mF00'] / ABC['mB'];\n",
    "            if (end[1][1] < 0 or end[1][1] > 1):\n",
    "                end[1][1] = 0.5\n",
    "    return edge,end"
   ]
  },
  {
   "cell_type": "code",
   "execution_count": 24,
   "metadata": {},
   "outputs": [],
   "source": [
    "def ComputeMinimumParameters(edge, end, ABC):\n",
    "    delta = end[1][1] - end[0][1];\n",
    "    h0 = delta * (-ABC['mB'] * end[0][0] + ABC['mC'] * end[0][1] - ABC['mE']);\n",
    "    parameter = np.zeros(2)\n",
    "    if (h0 >= 0):\n",
    "        if (edge[0] == 0):\n",
    "            parameter[0] = 0;\n",
    "            parameter[1] = GetClampedRoot(ABC['mC'], ABC['mG00'], ABC['mG01']);\n",
    "        elif (edge[0] == 1):\n",
    "            parameter[0] = 1;\n",
    "            parameter[1] = GetClampedRoot(ABC['mC'], ABC['mG10'], ABC['mG11']);\n",
    "        else:\n",
    "            parameter[0] = end[0][0];\n",
    "            parameter[1] = end[0][1];\n",
    "    else:\n",
    "        h1 = delta * (-ABC['mB'] * end[1][0] + ABC['mC'] * end[1][1] - ABC['mE']);\n",
    "        if (h1 <= 0):\n",
    "            if (edge[1] == 0):\n",
    "                parameter[0] = 0;\n",
    "                parameter[1] = GetClampedRoot(ABC['mC'], ABC['mG00'], ABC['mG01']);\n",
    "            elif (edge[1] == 1):\n",
    "                parameter[0] = 1;\n",
    "                parameter[1] = GetClampedRoot(ABC['mC'], ABC['mG10'], ABC['mG11']);\n",
    "            else:\n",
    "                parameter[0] = end[1][0];\n",
    "                parameter[1] = end[1][1];\n",
    "        else:  # h0 < 0 and h1 > 0\n",
    "            z = min(max(h0 / (h0 - h1), 0), 1);\n",
    "            omz = 1 - z;\n",
    "            parameter[0] = omz * end[0][0] + z * end[1][0];\n",
    "            parameter[1] = omz * end[0][1] + z * end[1][1];\n",
    "    return parameter"
   ]
  },
  {
   "cell_type": "code",
   "execution_count": 31,
   "metadata": {},
   "outputs": [],
   "source": [
    "def distance(P0,P1,Q0,Q1):\n",
    "    st=np.zeros(2)\n",
    "    points=[np.zeros(2)]*2\n",
    "    \n",
    "    P1mP0 = P1 - P0\n",
    "    Q1mQ0 = Q1 - Q0\n",
    "    P0mQ0 = P0 - Q0\n",
    "    \n",
    "    ABC=dict()\n",
    "    ABC['mA'] = np.dot(P1mP0, P1mP0)\n",
    "    ABC['mB'] = np.dot(P1mP0, Q1mQ0)\n",
    "    ABC['mC'] = np.dot(Q1mQ0, Q1mQ0)\n",
    "    ABC['mD'] = np.dot(P1mP0, P0mQ0)\n",
    "    ABC['mE'] = np.dot(Q1mQ0, P0mQ0)\n",
    "\n",
    "    ABC['mF00'] = ABC['mD']\n",
    "    ABC['mF10'] = ABC['mF00'] + ABC['mA']\n",
    "    ABC['mF01'] = ABC['mF00'] - ABC['mB']\n",
    "    ABC['mF11'] = ABC['mF10'] - ABC['mB']\n",
    "\n",
    "    ABC['mG00'] = -ABC['mE']\n",
    "    ABC['mG10'] = ABC['mG00'] - ABC['mB']\n",
    "    ABC['mG01'] = ABC['mG00'] + ABC['mC']\n",
    "    ABC['mG11'] = ABC['mG10'] + ABC['mC']\n",
    "    \n",
    "    if (ABC['mA'] > 0 and ABC['mC'] > 0):\n",
    "#         Compute the solutions to dR/ds(s0,0) = 0 and dR/ds(s1,1) = 0.  The\n",
    "#         location of sI on the s-axis is stored in classifyI (I = 0 or 1).  If\n",
    "#         sI <= 0, classifyI is -1.  If sI >= 1, classifyI is 1.  If 0 < sI < 1,\n",
    "#         classifyI is 0.  This inforABC['mA']tion helps determine where to search for\n",
    "#         the minimum point (s,t).  The fij values are dR/ds(i,j) for i and j in {0,1}.\n",
    "\n",
    "        sValue=np.zeros(2)\n",
    "        sValue[0] = GetClampedRoot(ABC['mA'], ABC['mF00'], ABC['mF10']);\n",
    "        sValue[1] = GetClampedRoot(ABC['mA'], ABC['mF01'], ABC['mF11']);\n",
    "\n",
    "        classify=[0,0]\n",
    "        for i in range(2):\n",
    "            if (sValue[i] <= 0):\n",
    "                classify[i] = -1\n",
    "            elif (sValue[i] >= 1):\n",
    "                classify[i] = 1\n",
    "            else:\n",
    "                classify[i] = 0\n",
    "\n",
    "        if (classify[0] == -1 and classify[1] == -1):\n",
    "#             The minimum must occur on s = 0 for 0 <= t <= 1.\n",
    "            st[0] = 0\n",
    "            st[1] = GetClampedRoot(ABC['mC'], ABC['mG00'], ABC['mG01'])\n",
    "        elif (classify[0] == 1 and classify[1] == 1):\n",
    "#             The minimum must occur on s = 1 for 0 <= t <= 1.\n",
    "            st[0] = 1\n",
    "            st[1] = GetClampedRoot(ABC['mC'], ABC['mG10'], ABC['mG11'])\n",
    "        else:\n",
    "#             The line dR/ds = 0 intersects the doABC['mA']in [0,1]^2 in a\n",
    "#             nondegenerate segABC['mE']nt.  Compute the endpoints of that segABC['mE']nt,\n",
    "#             end[0] and end[1].  The edge[i] flag tells you on which doABC['mA']in\n",
    "#             edge end[i] lives: 0 (s=0), 1 (s=1), 2 (t=0), 3 (t=1).\n",
    "        \n",
    "            edge,end=ComputeIntersection(sValue, classify, ABC);\n",
    "\n",
    "#             The directional derivative of R along the segABC['mE']nt of intersection is\n",
    "#             H(z) = (end[1][1]-end[1][0])*dR/dt((1-z)*end[0] + z*end[1])\n",
    "#             for z in [0,1].  The formula uses the fact that dR/ds = 0 on\n",
    "#             the segABC['mE']nt.  Compute the minimum of H on [0,1].\n",
    "            \n",
    "            st = ComputeMinimumParameters(edge, end, ABC);\n",
    "    else:\n",
    "        if (ABC['mA'] > 0):\n",
    "            # The Q-segABC['mE']nt is degenerate (Q0 and Q1 are the saABC['mE'] point) and\n",
    "            # the quadratic is R(s,0) = a*s^2 + 2*d*s + f and has (half)\n",
    "            # first derivative F(t) = a*s + d.  The closest P-point is\n",
    "            # interior to the P-segABC['mE']nt when F(0) < 0 and F(1) > 0.\n",
    "            st[0] = GetClampedRoot(ABC['mA'], ABC['mF00'], ABC['mF10']);\n",
    "            st[1] = 0;\n",
    "        elif (ABC['mC'] > 0):\n",
    "            # The P-segABC['mE']nt is degenerate (P0 and P1 are the saABC['mE'] point) and\n",
    "            # the quadratic is R(0,t) = c*t^2 - 2*e*t + f and has (half)\n",
    "            # first derivative G(t) = c*t - e.  The closest Q-point is\n",
    "            # interior to the Q-segABC['mE']nt when G(0) < 0 and G(1) > 0.\n",
    "            st[0] = 0;\n",
    "            st[1] = GetClampedRoot(ABC['mC'], ABC['mG00'], ABC['mG01']);\n",
    "        else:\n",
    "            # P-segABC['mE']nt and Q-segABC['mE']nt are degenerate.\n",
    "            st[0] = 0;\n",
    "            st[1] = 0;\n",
    "\n",
    "    points[0] = (1 - st[0]) * P0 + st[0] * P1;\n",
    "    points[1] = (1 - st[1]) * Q0 + st[1] * Q1;\n",
    "    diff = points[0] - points[1];\n",
    "    sqrdistance = np.dot(diff, diff);\n",
    "    return np.sqrt(sqrdistance), points, st"
   ]
  },
  {
   "cell_type": "markdown",
   "metadata": {},
   "source": [
    "### Test"
   ]
  },
  {
   "cell_type": "markdown",
   "metadata": {},
   "source": [
    "#### Test 1"
   ]
  },
  {
   "cell_type": "code",
   "execution_count": 32,
   "metadata": {},
   "outputs": [],
   "source": [
    "P0=np.array((-1.0264718499965966,9.6163341007195407e-007,0.0))\n",
    "P1=np.array((0.91950808032415809,-1.0094441192690283e-006,0.0))\n",
    "Q0=np.array((-1.0629447383806110,9.2709540082141753e-007,0.0))\n",
    "Q1=np.array((1.0811583868227901,-1.0670017179567367e-006,0.0))"
   ]
  },
  {
   "cell_type": "code",
   "execution_count": 33,
   "metadata": {},
   "outputs": [
    {
     "data": {
      "text/plain": [
       "(9.730718934530454e-10,\n",
       " [array([-2.12005334e-01,  1.36662595e-07,  0.00000000e+00]),\n",
       "  array([-2.12005334e-01,  1.35689523e-07,  0.00000000e+00])],\n",
       " array([0.41853798, 0.39687429]))"
      ]
     },
     "execution_count": 33,
     "metadata": {},
     "output_type": "execute_result"
    }
   ],
   "source": [
    "distance(P0,P1,Q0,Q1)\n",
    "# sT r ue = 0. 4 2 4 5 7 2 8 1 9 3 4 2 5 2 2 6 1\n",
    "# tT r ue = 0. 4 0 2 3 5 1 4 8 3 7 7 1 2 9 6 7 6\n",
    "# d i s t a n c e T r u e = 0"
   ]
  },
  {
   "cell_type": "markdown",
   "metadata": {},
   "source": [
    "#### Test 2"
   ]
  },
  {
   "cell_type": "code",
   "execution_count": 36,
   "metadata": {},
   "outputs": [],
   "source": [
    "P0=np.array((-1.0896217473782599,9.7236145595088601e-007,0.0))\n",
    "P1=np.array((0.91220578597858548,-9.4369829432107506e-007,0.0))\n",
    "Q0=np.array((-0.90010447502136237,9.0671446351334441e-007,0.0))\n",
    "Q1=np.array((1.0730877178721130,-9.8185787633992740e-007,0.0))"
   ]
  },
  {
   "cell_type": "code",
   "execution_count": 37,
   "metadata": {},
   "outputs": [
    {
     "data": {
      "text/plain": [
       "(1.1582296851547987e-07,\n",
       " [array([ 9.12205786e-01, -9.43698294e-07,  0.00000000e+00]),\n",
       "  array([ 9.12205786e-01, -8.27875326e-07,  0.00000000e+00])],\n",
       " array([1.        , 0.91846616]))"
      ]
     },
     "execution_count": 37,
     "metadata": {},
     "output_type": "execute_result"
    }
   ],
   "source": [
    "distance(P0,P1,Q0,Q1)\n",
    "# sT r ue = 0. 0 9 4 6 7 2 1 2 7 9 4 2 5 0 4 1 5 3\n",
    "# tT r ue = 0\n",
    "# d i s t a n c e T r u e = 1. 1 5 7 5 0 4 6 1 3 8 5 7 4 1 0 5 e−007"
   ]
  },
  {
   "cell_type": "markdown",
   "metadata": {},
   "source": [
    "#### Test 3"
   ]
  },
  {
   "cell_type": "code",
   "execution_count": 38,
   "metadata": {},
   "outputs": [],
   "source": [
    "P0=np.array((0.77998990099877119,0.61192502360790968,-0.22703111823648214))\n",
    "P1=np.array((0.53215344529598951,0.85724585503339767,-0.10102437809109688))\n",
    "Q0=np.array((-0.21277333982288837,0.35091548087075353,-0.49557160679250956))\n",
    "Q1=np.array((0.11881479667499661,0.022494725417345762,-0.66426620958372951))"
   ]
  },
  {
   "cell_type": "code",
   "execution_count": 39,
   "metadata": {},
   "outputs": [
    {
     "data": {
      "text/plain": [
       "(0.9829239711648874,\n",
       " [array([ 0.53215345,  0.85724586, -0.10102438]),\n",
       "  array([-0.19370562,  0.3320299 , -0.50527226])],\n",
       " array([1.        , 0.05750422]))"
      ]
     },
     "execution_count": 39,
     "metadata": {},
     "output_type": "execute_result"
    }
   ],
   "source": [
    "distance(P0,P1,Q0,Q1)\n",
    "# sT r ue = 1\n",
    "# tT r ue = 0. 0 5 7 5 0 4 2 1 9 5 2 2 7 6 2 1 7 6\n",
    "# d i s t a n c e T r u e = 0. 9 8 2 9 2 3 9 7 1 1 6 4 8 8 7 3 9"
   ]
  },
  {
   "cell_type": "markdown",
   "metadata": {},
   "source": [
    "#### Test 4"
   ]
  },
  {
   "cell_type": "code",
   "execution_count": 40,
   "metadata": {},
   "outputs": [],
   "source": [
    "delta=0.25 * 1e-04;\n",
    "epsilon=np.sqrt(delta);\n",
    "phi=1e-05;\n",
    "P0=np.array((0,0,0))\n",
    "P1=np.array((1,0,0))\n",
    "Q0=np.array((-epsilon,phi+delta,0))\n",
    "Q1=np.array((epsilon,phi-delta,0))"
   ]
  },
  {
   "cell_type": "code",
   "execution_count": 41,
   "metadata": {},
   "outputs": [
    {
     "data": {
      "text/plain": [
       "(2.7122314947662727e-17,\n",
       " [array([0.002, 0.   , 0.   ]),\n",
       "  array([ 2.00000000e-03, -2.71084424e-17,  0.00000000e+00])],\n",
       " array([0.002, 0.7  ]))"
      ]
     },
     "execution_count": 41,
     "metadata": {},
     "output_type": "execute_result"
    }
   ],
   "source": [
    "distance(P0,P1,Q0,Q1)\n",
    "# sT r ue = 0. 0 0 2 0 0 0 0 0 0 0 0 0 0 0 0 0 0 0 0\n",
    "# tT r ue = 0. 7 0 0 0 0 0 0 0 0 0 0 0 0 0 0 0 7\n",
    "# d i s t a n c e T r u e = 0. 0"
   ]
  },
  {
   "cell_type": "markdown",
   "metadata": {},
   "source": [
    "## Generate rods"
   ]
  },
  {
   "cell_type": "code",
   "execution_count": 64,
   "metadata": {},
   "outputs": [],
   "source": [
    "def GenerateRods(nrods,rodlen,boxleng,filename=''):\n",
    "    x=np.random.rand(nrods)*boxleng;\n",
    "    y=np.random.rand(nrods)*boxleng;\n",
    "    theta=np.random.rand(nrods)*2*math.pi;\n",
    "    ex=np.cos(theta);\n",
    "    ey=np.sin(theta);\n",
    "    if filename:\n",
    "        np.savetxt(filename,np.array((x-0.5*rodlen*ex,y-0.5*rodlen*ey,x+0.5*rodlen*ex,y+0.5*rodlen*ey)).T)\n",
    "    return (x-0.5*rodlen*ex,y-0.5*rodlen*ey,x+0.5*rodlen*ex,y+0.5*rodlen*ey)\n",
    "\n",
    "\n",
    "def GetNetwork(X1,Y1,X2,Y2,filename=''):\n",
    "    if filename:\n",
    "        outfile=open(filename,'w')\n",
    "    adj=dict()\n",
    "    for i in xrange(len(X1)):\n",
    "        adj[i]=list()\n",
    "    for i in xrange(len(X1)):\n",
    "        x1,y1,x2,y2=(X1[i],Y1[i],X2[i],Y2[i])\n",
    "        for j in xrange(i+1,len(X1)):\n",
    "            x3,y3,x4,y4=(X1[j],Y1[j],X2[j],Y2[j])\n",
    "            d1=point2line(x3,y3,x4,y4,x1,y1)\n",
    "            d2=point2line(x3,y3,x4,y4,x2,y2)\n",
    "            d3=point2line(x1,y1,x2,y2,x3,y3)\n",
    "            d4=point2line(x1,y1,x2,y2,x4,y4)\n",
    "            dij=np.amin([d1,d2,d3,d4])\n",
    "            k=(y4-y3)*(x2-x1)-(x4-x3)*(y2-y1)\n",
    "            if k!=0:\n",
    "                ua=((x4-x3)*(y1-y3)-(y4-y3)*(x1-x3))/k\n",
    "                ub=((x2-x1)*(y1-y3)-(y2-y1)*(x1-x3))/k\n",
    "                if ua>=0 and ua<=1 and ub>=0 and ub<=1:\n",
    "                    dij=0\n",
    "            if dij<=2*r:\n",
    "                adj[i].append(j)\n",
    "                adj[j].append(i)\n",
    "                if filename:\n",
    "                    outfile.write('{} {}\\n'.format(i,j))\n",
    "    if filename:\n",
    "        outfile.close()\n",
    "    return adj\n",
    "\n",
    "\n",
    "def Triangles(adj):\n",
    "    ntriangle=0\n",
    "    visited_ids = set()\n",
    "    for node_a_id in adj:\n",
    "        for node_b_id in adj[node_a_id]:\n",
    "            if node_b_id == node_a_id:\n",
    "                raise \"Self Loop!\" # nodes shouldn't point to themselves\n",
    "            if node_b_id in visited_ids:\n",
    "                continue # we should have already found b->a->??->b\n",
    "            for node_c_id in adj[node_b_id]:\n",
    "                if node_c_id in visited_ids:\n",
    "                    continue # we should have already found c->a->b->c\n",
    "                if node_a_id in adj[node_c_id]:\n",
    "                    ntriangle+=1\n",
    "        visited_ids.add(node_a_id)\n",
    "    return ntriangles"
   ]
  },
  {
   "cell_type": "code",
   "execution_count": 66,
   "metadata": {},
   "outputs": [],
   "source": [
    "nrealizations=50;\n",
    "r=0.5;\n",
    "rodlen=50;\n",
    "boxlen=10*(rodlen+2*r);\n",
    "nrods=10#int(sys.argv[1]);\n",
    "cutoff=2*r;\n",
    "ntriangles=[]\n",
    "degrees=[]"
   ]
  },
  {
   "cell_type": "code",
   "execution_count": 68,
   "metadata": {},
   "outputs": [],
   "source": [
    "for nrods in xrange(10,160,10):\n",
    "    filename=\"../Rods2D/{}\".format(nrods)\n",
    "    for i in xrange(nrealizations):\n",
    "        X1,Y1,X2,Y2=GenerateRods(nrods,rodlen,boxlen,'{}({}).rods'.format(filename,i))\n",
    "        adj=GetNetwork(X1,Y1,X2,Y2,'{}({}).adj'.format(filename,i))"
   ]
  },
  {
   "cell_type": "code",
   "execution_count": 51,
   "metadata": {},
   "outputs": [
    {
     "data": {
      "image/png": "[encoded data removed]",
      "text/plain": [
       "<matplotlib.figure.Figure at 0x10979d690>"
      ]
     },
     "metadata": {},
     "output_type": "display_data"
    }
   ],
   "source": [
    "tic=Stopwatch()\n",
    "tic.go()\n",
    "for realization in xrange(1):\n",
    "    X1,Y1,X2,Y2=GenerateRods(nrods,rodlen,boxlen)\n",
    "    \n",
    "    degree=np.zeros(X1.shape)\n",
    "    adj=dict()\n",
    "    for i in xrange(len(X1)):\n",
    "        adj[i]=list()\n",
    "    for i in xrange(len(X1)):\n",
    "        x1,y1,x2,y2=(X1[i],Y1[i],X2[i],Y2[i])\n",
    "        for j in xrange(i+1,len(X1)):\n",
    "            x3,y3,x4,y4=(X1[j],Y1[j],X2[j],Y2[j])\n",
    "            d1=point2line(x3,y3,x4,y4,x1,y1)\n",
    "            d2=point2line(x3,y3,x4,y4,x2,y2)\n",
    "            d3=point2line(x1,y1,x2,y2,x3,y3)\n",
    "            d4=point2line(x1,y1,x2,y2,x4,y4)\n",
    "            dij=np.amin([d1,d2,d3,d4])\n",
    "            k=(y4-y3)*(x2-x1)-(x4-x3)*(y2-y1)\n",
    "            if k!=0:\n",
    "                ua=((x4-x3)*(y1-y3)-(y4-y3)*(x1-x3))/k\n",
    "                ub=((x2-x1)*(y1-y3)-(y2-y1)*(x1-x3))/k\n",
    "                if ua>=0 and ua<=1 and ub>=0 and ub<=1:\n",
    "                    dij=0\n",
    "            if dij<=2*r:\n",
    "                adj[i].append(j)\n",
    "                adj[j].append(i)\n",
    "                degree[i]+=1\n",
    "                degree[j]+=1\n",
    "    plt.plot(np.array((X1,X2)),np.array((Y1,Y2)),'b');\n",
    "    #ntriangles.append(Triangles(adj))\n",
    "    #degrees.append(np.mean(degree))\n",
    "\n",
    "#with open('{}.pkl'.format(nrods),'wb') as outfile:\n",
    "    #pickle.dump((nrods,ntriangles,degrees,tic.check()),outfile)"
   ]
  },
  {
   "cell_type": "code",
   "execution_count": 11,
   "metadata": {},
   "outputs": [],
   "source": [
    "nrods=[]\n",
    "times=[]\n",
    "ntriangles=[]\n",
    "degrees=[]\n",
    "for f in glob.glob('*.pkl'):\n",
    "    (n,nt,deg,t)=pickle.load(open(f))\n",
    "    nrods.append(n)\n",
    "    times.append(t)\n",
    "    ntriangles.append(np.mean(nt))\n",
    "    degrees.append(np.mean(deg))"
   ]
  },
  {
   "cell_type": "code",
   "execution_count": 18,
   "metadata": {},
   "outputs": [
    {
     "data": {
      "image/png": "[encoded data removed]",
      "text/plain": [
       "<matplotlib.figure.Figure at 0x109270ad0>"
      ]
     },
     "metadata": {},
     "output_type": "display_data"
    }
   ],
   "source": [
    "fig,ax=plt.subplots()\n",
    "ax.plot(nrods,np.array(ntriangles),'b.')\n",
    "ax.set_xlabel('# rods')\n",
    "ax.set_ylabel('# triangles')\n",
    "for tl in ax.get_yticklabels():\n",
    "    tl.set_color('b')\n",
    "ax2 = ax.twinx()\n",
    "ax2.plot(nrods,np.array(degrees),'r.')\n",
    "ax2.set_ylabel('average degree')\n",
    "for tl in ax2.get_yticklabels():\n",
    "    tl.set_color('r')"
   ]
  }
 ],
 "metadata": {
  "kernelspec": {
   "display_name": "Python 3",
   "language": "python",
   "name": "python3"
  },
  "language_info": {
   "codemirror_mode": {
    "name": "ipython",
    "version": 3
   },
   "file_extension": ".py",
   "mimetype": "text/x-python",
   "name": "python",
   "nbconvert_exporter": "python",
   "pygments_lexer": "ipython3",
   "version": "3.6.4"
  },
  "toc": {
   "nav_menu": {},
   "number_sections": false,
   "sideBar": true,
   "skip_h1_title": true,
   "title_cell": "Table of Contents",
   "title_sidebar": "Contents",
   "toc_cell": false,
   "toc_position": {},
   "toc_section_display": true,
   "toc_window_display": false
  }
 },
 "nbformat": 4,
 "nbformat_minor": 1
}
